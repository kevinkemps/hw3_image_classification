{
  "nbformat": 4,
  "nbformat_minor": 0,
  "metadata": {
    "colab": {
      "provenance": [],
      "gpuType": "T4",
      "authorship_tag": "ABX9TyNwXbFXu1zPruRpATWZuXK9",
      "include_colab_link": true
    },
    "kernelspec": {
      "name": "python3",
      "display_name": "Python 3"
    },
    "language_info": {
      "name": "python"
    },
    "accelerator": "GPU"
  },
  "cells": [
    {
      "cell_type": "markdown",
      "metadata": {
        "id": "view-in-github",
        "colab_type": "text"
      },
      "source": [
        "<a href=\"https://colab.research.google.com/github/kevinkemps/hw3_image_classification/blob/main/hw_3.ipynb\" target=\"_parent\"><img src=\"https://colab.research.google.com/assets/colab-badge.svg\" alt=\"Open In Colab\"/></a>"
      ]
    },
    {
      "cell_type": "code",
      "source": [],
      "metadata": {
        "id": "8VkjIAXQfUI7"
      },
      "execution_count": null,
      "outputs": []
    },
    {
      "cell_type": "markdown",
      "source": [
        "Part a:\n",
        "This section is just setting up a base model using keras (code based on sample keras notebook code). You can skip to section a.i for the parameter tuning"
      ],
      "metadata": {
        "id": "w_wIEXecf2K5"
      }
    },
    {
      "cell_type": "code",
      "execution_count": 3,
      "metadata": {
        "id": "5CnC8PGEauoi"
      },
      "outputs": [],
      "source": [
        "from keras.datasets import cifar10\n",
        "from sklearn.model_selection import train_test_split\n",
        "import math\n",
        "import pandas as pd\n",
        "import keras\n",
        "from keras import models, layers, optimizers, regularizers\n",
        "import numpy as np\n",
        "import random\n",
        "from sklearn import model_selection, preprocessing\n",
        "import tensorflow as tf\n",
        "from tqdm import tqdm\n",
        "import matplotlib.pyplot as plt\n",
        "from keras.models import Model, Sequential\n",
        "from keras.layers import Dense, Dropout\n",
        "from skimage.color import rgb2gray\n",
        "from keras.utils import to_categorical\n",
        "import time\n"
      ]
    },
    {
      "cell_type": "code",
      "source": [
        "# load the dataset\n",
        "(X_train, y_train), (X_test, y_test) = cifar10.load_data()\n",
        "\n",
        "# convert to grayscale images\n",
        "X_train = rgb2gray(X_train)\n",
        "X_test = rgb2gray(X_test)\n",
        "\n",
        "# Preprocessing: Normalize the images.\n",
        "train_images = (X_train / 255)\n",
        "test_images = (X_test / 255)\n",
        "\n",
        "# prompt: split the training data and labels into 1/5 validation and 4/5 training at random\n",
        "train_images, val_images, train_labels, val_labels = train_test_split(train_images, y_train, test_size=1/5, random_state=42)"
      ],
      "metadata": {
        "id": "V1KLYWXta2NV"
      },
      "execution_count": 5,
      "outputs": []
    },
    {
      "cell_type": "code",
      "source": [
        "val_labels"
      ],
      "metadata": {
        "colab": {
          "base_uri": "https://localhost:8080/"
        },
        "id": "21sPAmadHUW3",
        "outputId": "8abf2b55-f0b2-4036-ae66-d6a899fd016c"
      },
      "execution_count": 13,
      "outputs": [
        {
          "output_type": "execute_result",
          "data": {
            "text/plain": [
              "array([[7],\n",
              "       [8],\n",
              "       [0],\n",
              "       ...,\n",
              "       [8],\n",
              "       [2],\n",
              "       [6]], dtype=uint8)"
            ]
          },
          "metadata": {},
          "execution_count": 13
        }
      ]
    },
    {
      "cell_type": "code",
      "source": [
        "model = Sequential([Dense(64, input_shape=(1024,), activation='relu'),\n",
        "                    Dense(32, activation='relu'),\n",
        "                    Dense(10, activation='softmax')])\n",
        "\n",
        "model.summary()"
      ],
      "metadata": {
        "colab": {
          "base_uri": "https://localhost:8080/"
        },
        "id": "AaPo6noObjH-",
        "outputId": "d31fcff5-43ad-45bd-ce3f-e2f45f8aeb15"
      },
      "execution_count": 3,
      "outputs": [
        {
          "output_type": "stream",
          "name": "stdout",
          "text": [
            "Model: \"sequential\"\n",
            "_________________________________________________________________\n",
            " Layer (type)                Output Shape              Param #   \n",
            "=================================================================\n",
            " dense (Dense)               (None, 64)                65600     \n",
            "                                                                 \n",
            " dense_1 (Dense)             (None, 32)                2080      \n",
            "                                                                 \n",
            " dense_2 (Dense)             (None, 10)                330       \n",
            "                                                                 \n",
            "=================================================================\n",
            "Total params: 68010 (265.66 KB)\n",
            "Trainable params: 68010 (265.66 KB)\n",
            "Non-trainable params: 0 (0.00 Byte)\n",
            "_________________________________________________________________\n"
          ]
        }
      ]
    },
    {
      "cell_type": "code",
      "source": [
        "# Compile model\n",
        "model.compile(optimizer='sgd', loss='categorical_crossentropy',metrics=['accuracy'],)"
      ],
      "metadata": {
        "id": "UGlN0LFIbonU"
      },
      "execution_count": 4,
      "outputs": []
    },
    {
      "cell_type": "code",
      "source": [
        "#flatten all groups of images\n",
        "flatten_train_images = train_images.reshape((-1, 32*32))\n",
        "flatten_val_images = val_images.reshape((-1, 32*32))\n",
        "flatten_test_images = test_images.reshape((-1, 32*32))"
      ],
      "metadata": {
        "id": "LI8zRqBubvpN"
      },
      "execution_count": 5,
      "outputs": []
    },
    {
      "cell_type": "code",
      "source": [
        "print(\"Train image shape: \", train_images.shape, \"Flattened image shape: \", flatten_train_images.shape)"
      ],
      "metadata": {
        "colab": {
          "base_uri": "https://localhost:8080/"
        },
        "id": "t1DuAmgzb40G",
        "outputId": "d4571741-d97d-4b32-d26f-bcc2e9d0df6e"
      },
      "execution_count": 6,
      "outputs": [
        {
          "output_type": "stream",
          "name": "stdout",
          "text": [
            "Train image shape:  (40000, 32, 32) Flattened image shape:  (40000, 1024)\n"
          ]
        }
      ]
    },
    {
      "cell_type": "code",
      "source": [
        "model.fit(flatten_train_images, to_categorical(train_labels), epochs=10, batch_size=256,)\n"
      ],
      "metadata": {
        "colab": {
          "base_uri": "https://localhost:8080/"
        },
        "id": "g6-ErqIYb7Zm",
        "outputId": "b9591914-6442-4992-e4df-af444f5ab4a6"
      },
      "execution_count": 7,
      "outputs": [
        {
          "output_type": "stream",
          "name": "stdout",
          "text": [
            "Epoch 1/10\n",
            "157/157 [==============================] - 4s 7ms/step - loss: 2.3023 - accuracy: 0.1052\n",
            "Epoch 2/10\n",
            "157/157 [==============================] - 1s 7ms/step - loss: 2.3021 - accuracy: 0.1059\n",
            "Epoch 3/10\n",
            "157/157 [==============================] - 1s 4ms/step - loss: 2.3021 - accuracy: 0.1072\n",
            "Epoch 4/10\n",
            "157/157 [==============================] - 1s 3ms/step - loss: 2.3021 - accuracy: 0.1174\n",
            "Epoch 5/10\n",
            "157/157 [==============================] - 1s 3ms/step - loss: 2.3020 - accuracy: 0.1096\n",
            "Epoch 6/10\n",
            "157/157 [==============================] - 1s 3ms/step - loss: 2.3020 - accuracy: 0.1017\n",
            "Epoch 7/10\n",
            "157/157 [==============================] - 1s 3ms/step - loss: 2.3020 - accuracy: 0.1020\n",
            "Epoch 8/10\n",
            "157/157 [==============================] - 1s 4ms/step - loss: 2.3020 - accuracy: 0.1032\n",
            "Epoch 9/10\n",
            "157/157 [==============================] - 1s 4ms/step - loss: 2.3020 - accuracy: 0.1017\n",
            "Epoch 10/10\n",
            "157/157 [==============================] - 1s 5ms/step - loss: 2.3020 - accuracy: 0.1017\n"
          ]
        },
        {
          "output_type": "execute_result",
          "data": {
            "text/plain": [
              "<keras.src.callbacks.History at 0x7c6f435bb520>"
            ]
          },
          "metadata": {},
          "execution_count": 7
        }
      ]
    },
    {
      "cell_type": "code",
      "source": [
        "\n",
        "# Evaluate your model's performance on the test data\n",
        "performance = model.evaluate(flatten_test_images, to_categorical(y_test))\n",
        "print(\"Accuracy on Test samples: {0}\".format(performance[1]))"
      ],
      "metadata": {
        "colab": {
          "base_uri": "https://localhost:8080/"
        },
        "id": "-Ocju0BJcK8H",
        "outputId": "cb4b05c3-a8bd-4092-a1ce-57ad36fb743e"
      },
      "execution_count": 8,
      "outputs": [
        {
          "output_type": "stream",
          "name": "stdout",
          "text": [
            "313/313 [==============================] - 1s 3ms/step - loss: 2.3020 - accuracy: 0.1000\n",
            "Accuracy on Test samples: 0.10000000149011612\n"
          ]
        }
      ]
    },
    {
      "cell_type": "markdown",
      "source": [
        "(a.i) Hyper Parameter tuning"
      ],
      "metadata": {
        "id": "6p9rxBDpgKSh"
      }
    },
    {
      "cell_type": "code",
      "source": [
        "'''\n",
        "Helper functions to build, train, and test the model.\n",
        "\n",
        "'''\n",
        "def build_model(nodes=[128, 64, 10], activation='relu'):\n",
        "  layer_list = []\n",
        "\n",
        "  for layer in range(len(nodes)):\n",
        "      if type(activation) == list:\n",
        "        activation = activation[layer]\n",
        "      if layer == 0:\n",
        "        layer_list.append(Dense(nodes[layer], input_shape=(1024,), activation=activation))\n",
        "      else:\n",
        "        layer_list.append(Dense(nodes[layer], activation=activation))\n",
        "  model = Sequential(layer_list)\n",
        "  model.compile(optimizer='sgd', loss='categorical_crossentropy',metrics=['accuracy'],)\n",
        "  print(model.summary())\n",
        "  return model\n",
        "\n",
        "\n",
        "def train_model(model, train_X, train_labels, epochs=10, batch_size=256):\n",
        "  start = time.time()\n",
        "  model.fit(flatten_train_images, to_categorical(train_labels), epochs=10, batch_size=256,)\n",
        "  print(f\"The model took {time.time() - start} seconds to train\")\n",
        "\n",
        "\n",
        "def test_model(model, test_X, test_labels):\n",
        "  # Evaluate your model's performance on the test data\n",
        "  performance = model.evaluate(test_X, to_categorical(test_labels))\n",
        "  print(\"Accuracy on Test/Validation samples: {0}\".format(performance[1]))"
      ],
      "metadata": {
        "id": "0Xi9SN39cboS"
      },
      "execution_count": 14,
      "outputs": []
    },
    {
      "cell_type": "markdown",
      "source": [
        "Experiment on the validation set with different FNN hyper-parameters, e.g.\n",
        "layers, nodes per layer, activation function, dropout, weight regularization, etc."
      ],
      "metadata": {
        "id": "zW2nWNvWlFne"
      }
    },
    {
      "cell_type": "code",
      "source": [
        "model = build_model()\n",
        "train_model(model=model, train_X=flatten_train_images, train_labels=train_labels)\n",
        "test_model(model=model, test_X=flatten_val_images, test_labels=val_labels)"
      ],
      "metadata": {
        "colab": {
          "base_uri": "https://localhost:8080/"
        },
        "id": "cOBBJrGLp8jj",
        "outputId": "e4004963-fd9e-4a8c-d355-f9e5817c0310"
      },
      "execution_count": 15,
      "outputs": [
        {
          "output_type": "stream",
          "name": "stdout",
          "text": [
            "Model: \"sequential_3\"\n",
            "_________________________________________________________________\n",
            " Layer (type)                Output Shape              Param #   \n",
            "=================================================================\n",
            " dense_10 (Dense)            (None, 128)               131200    \n",
            "                                                                 \n",
            " dense_11 (Dense)            (None, 64)                8256      \n",
            "                                                                 \n",
            " dense_12 (Dense)            (None, 10)                650       \n",
            "                                                                 \n",
            "=================================================================\n",
            "Total params: 140106 (547.29 KB)\n",
            "Trainable params: 140106 (547.29 KB)\n",
            "Non-trainable params: 0 (0.00 Byte)\n",
            "_________________________________________________________________\n",
            "None\n",
            "Epoch 1/10\n",
            "157/157 [==============================] - 1s 4ms/step - loss: 6.2996 - accuracy: 0.0996\n",
            "Epoch 2/10\n",
            "157/157 [==============================] - 1s 4ms/step - loss: 6.2312 - accuracy: 0.0996\n",
            "Epoch 3/10\n",
            "157/157 [==============================] - 1s 4ms/step - loss: 6.2098 - accuracy: 0.0996\n",
            "Epoch 4/10\n",
            "157/157 [==============================] - 1s 4ms/step - loss: 6.1981 - accuracy: 0.0996\n",
            "Epoch 5/10\n",
            "157/157 [==============================] - 1s 5ms/step - loss: 6.1915 - accuracy: 0.0996\n",
            "Epoch 6/10\n",
            "157/157 [==============================] - 1s 5ms/step - loss: 6.1877 - accuracy: 0.0996\n",
            "Epoch 7/10\n",
            "157/157 [==============================] - 1s 5ms/step - loss: 6.1857 - accuracy: 0.0996\n",
            "Epoch 8/10\n",
            "157/157 [==============================] - 1s 4ms/step - loss: 6.1847 - accuracy: 0.0996\n",
            "Epoch 9/10\n",
            "157/157 [==============================] - 1s 4ms/step - loss: 6.1842 - accuracy: 0.0996\n",
            "Epoch 10/10\n",
            "157/157 [==============================] - 1s 4ms/step - loss: 6.1839 - accuracy: 0.0996\n",
            "The model took 11.219372272491455 seconds to train\n",
            "313/313 [==============================] - 1s 2ms/step - loss: 6.2530 - accuracy: 0.1017\n",
            "Accuracy on Test/Validation samples: 0.10170000046491623\n"
          ]
        }
      ]
    },
    {
      "cell_type": "code",
      "source": [
        "model = build_model(nodes=[500, 250, 125, 10], activation=['relu', 'relu', 'relu', 'relu'])\n",
        "train_model(model=model, train_X=flatten_train_images, train_labels=train_labels)\n",
        "test_model(model=model, test_X=flatten_val_images, test_labels=val_labels)"
      ],
      "metadata": {
        "colab": {
          "base_uri": "https://localhost:8080/"
        },
        "id": "SuoUqwOJlHCl",
        "outputId": "52b508d9-5783-48aa-a2f2-dfb1b752e93c"
      },
      "execution_count": 16,
      "outputs": [
        {
          "output_type": "stream",
          "name": "stdout",
          "text": [
            "Model: \"sequential_4\"\n",
            "_________________________________________________________________\n",
            " Layer (type)                Output Shape              Param #   \n",
            "=================================================================\n",
            " dense_13 (Dense)            (None, 500)               512500    \n",
            "                                                                 \n",
            " dense_14 (Dense)            (None, 250)               125250    \n",
            "                                                                 \n",
            " dense_15 (Dense)            (None, 125)               31375     \n",
            "                                                                 \n",
            " dense_16 (Dense)            (None, 10)                1260      \n",
            "                                                                 \n",
            "=================================================================\n",
            "Total params: 670385 (2.56 MB)\n",
            "Trainable params: 670385 (2.56 MB)\n",
            "Non-trainable params: 0 (0.00 Byte)\n",
            "_________________________________________________________________\n",
            "None\n",
            "Epoch 1/10\n",
            "157/157 [==============================] - 1s 4ms/step - loss: 7.6014 - accuracy: 0.0991\n",
            "Epoch 2/10\n",
            "157/157 [==============================] - 1s 4ms/step - loss: 7.5565 - accuracy: 0.0994\n",
            "Epoch 3/10\n",
            "157/157 [==============================] - 1s 5ms/step - loss: 7.5512 - accuracy: 0.0994\n",
            "Epoch 4/10\n",
            "157/157 [==============================] - 1s 5ms/step - loss: 7.5498 - accuracy: 0.0994\n",
            "Epoch 5/10\n",
            "157/157 [==============================] - 1s 6ms/step - loss: 7.5493 - accuracy: 0.0994\n",
            "Epoch 6/10\n",
            "157/157 [==============================] - 1s 4ms/step - loss: 7.5492 - accuracy: 0.0994\n",
            "Epoch 7/10\n",
            "157/157 [==============================] - 1s 4ms/step - loss: 7.5492 - accuracy: 0.0979\n",
            "Epoch 8/10\n",
            "157/157 [==============================] - 1s 4ms/step - loss: 7.5492 - accuracy: 0.0973\n",
            "Epoch 9/10\n",
            "157/157 [==============================] - 1s 4ms/step - loss: 7.5492 - accuracy: 0.0977\n",
            "Epoch 10/10\n",
            "157/157 [==============================] - 1s 4ms/step - loss: 7.5492 - accuracy: 0.0991\n",
            "The model took 11.251708269119263 seconds to train\n",
            "313/313 [==============================] - 1s 2ms/step - loss: 7.4148 - accuracy: 0.0997\n",
            "Accuracy on Test/Validation samples: 0.09969999641180038\n"
          ]
        }
      ]
    },
    {
      "cell_type": "code",
      "source": [
        "model = build_model(nodes=[800 ,500, 250, 125, 10], activation=['relu', 'relu', 'relu', 'relu', 'relu'])\n",
        "train_model(model=model, train_X=flatten_train_images, train_labels=train_labels)\n",
        "test_model(model=model, test_X=flatten_val_images, test_labels=val_labels)"
      ],
      "metadata": {
        "colab": {
          "base_uri": "https://localhost:8080/"
        },
        "id": "n0Jq8JxjsAuB",
        "outputId": "76394f92-8194-4767-ccb9-789e59b52788"
      },
      "execution_count": 55,
      "outputs": [
        {
          "output_type": "stream",
          "name": "stdout",
          "text": [
            "Model: \"sequential_9\"\n",
            "_________________________________________________________________\n",
            " Layer (type)                Output Shape              Param #   \n",
            "=================================================================\n",
            " dense_29 (Dense)            (None, 800)               820000    \n",
            "                                                                 \n",
            " dense_30 (Dense)            (None, 500)               400500    \n",
            "                                                                 \n",
            " dense_31 (Dense)            (None, 250)               125250    \n",
            "                                                                 \n",
            " dense_32 (Dense)            (None, 125)               31375     \n",
            "                                                                 \n",
            " dense_33 (Dense)            (None, 10)                1260      \n",
            "                                                                 \n",
            "=================================================================\n",
            "Total params: 1378385 (5.26 MB)\n",
            "Trainable params: 1378385 (5.26 MB)\n",
            "Non-trainable params: 0 (0.00 Byte)\n",
            "_________________________________________________________________\n",
            "None\n",
            "Epoch 1/10\n",
            "157/157 [==============================] - 2s 4ms/step - loss: 8.9257 - accuracy: 0.1005\n",
            "Epoch 2/10\n",
            "157/157 [==============================] - 1s 4ms/step - loss: 8.8585 - accuracy: 0.1005\n",
            "Epoch 3/10\n",
            "157/157 [==============================] - 1s 4ms/step - loss: 8.8428 - accuracy: 0.1005\n",
            "Epoch 4/10\n",
            "157/157 [==============================] - 1s 4ms/step - loss: 8.8355 - accuracy: 0.1005\n",
            "Epoch 5/10\n",
            "157/157 [==============================] - 1s 5ms/step - loss: 8.6159 - accuracy: 0.1010\n",
            "Epoch 6/10\n",
            "157/157 [==============================] - 1s 5ms/step - loss: 6.5634 - accuracy: 0.0993\n",
            "Epoch 7/10\n",
            "157/157 [==============================] - 1s 6ms/step - loss: 6.4369 - accuracy: 0.0993\n",
            "Epoch 8/10\n",
            "157/157 [==============================] - 1s 4ms/step - loss: 6.3810 - accuracy: 0.0993\n",
            "Epoch 9/10\n",
            "157/157 [==============================] - 1s 4ms/step - loss: 6.3455 - accuracy: 0.0993\n",
            "Epoch 10/10\n",
            "157/157 [==============================] - 1s 5ms/step - loss: 6.3199 - accuracy: 0.0993\n",
            "The model took 11.236524105072021 seconds to train\n",
            "313/313 [==============================] - 1s 2ms/step - loss: 6.3915 - accuracy: 0.1030\n",
            "Accuracy on Test/Validation samples: 0.10300000011920929\n"
          ]
        }
      ]
    },
    {
      "cell_type": "code",
      "source": [
        "model = build_model(nodes=[800, 700, 600, 500, 400, 300, 250, 125, 50, 25, 10])\n",
        "train_model(model=model, train_X=flatten_train_images, train_labels=train_labels)\n",
        "test_model(model=model, test_X=flatten_val_images, test_labels=val_labels)"
      ],
      "metadata": {
        "colab": {
          "base_uri": "https://localhost:8080/"
        },
        "id": "4Rr2bBjKuOaF",
        "outputId": "22cc3388-30b7-483a-b452-d73ce5a84480"
      },
      "execution_count": 18,
      "outputs": [
        {
          "output_type": "stream",
          "name": "stdout",
          "text": [
            "Model: \"sequential_5\"\n",
            "_________________________________________________________________\n",
            " Layer (type)                Output Shape              Param #   \n",
            "=================================================================\n",
            " dense_17 (Dense)            (None, 800)               820000    \n",
            "                                                                 \n",
            " dense_18 (Dense)            (None, 700)               560700    \n",
            "                                                                 \n",
            " dense_19 (Dense)            (None, 600)               420600    \n",
            "                                                                 \n",
            " dense_20 (Dense)            (None, 500)               300500    \n",
            "                                                                 \n",
            " dense_21 (Dense)            (None, 400)               200400    \n",
            "                                                                 \n",
            " dense_22 (Dense)            (None, 300)               120300    \n",
            "                                                                 \n",
            " dense_23 (Dense)            (None, 250)               75250     \n",
            "                                                                 \n",
            " dense_24 (Dense)            (None, 125)               31375     \n",
            "                                                                 \n",
            " dense_25 (Dense)            (None, 50)                6300      \n",
            "                                                                 \n",
            " dense_26 (Dense)            (None, 25)                1275      \n",
            "                                                                 \n",
            " dense_27 (Dense)            (None, 10)                260       \n",
            "                                                                 \n",
            "=================================================================\n",
            "Total params: 2536960 (9.68 MB)\n",
            "Trainable params: 2536960 (9.68 MB)\n",
            "Non-trainable params: 0 (0.00 Byte)\n",
            "_________________________________________________________________\n",
            "None\n",
            "Epoch 1/10\n",
            "157/157 [==============================] - 3s 6ms/step - loss: 6.2712 - accuracy: 0.1000\n",
            "Epoch 2/10\n",
            "157/157 [==============================] - 1s 6ms/step - loss: 6.1919 - accuracy: 0.1001\n",
            "Epoch 3/10\n",
            "157/157 [==============================] - 1s 5ms/step - loss: 6.1884 - accuracy: 0.1001\n",
            "Epoch 4/10\n",
            "157/157 [==============================] - 1s 5ms/step - loss: 6.1878 - accuracy: 0.1001\n",
            "Epoch 5/10\n",
            "157/157 [==============================] - 1s 6ms/step - loss: 6.1877 - accuracy: 0.1001\n",
            "Epoch 6/10\n",
            "157/157 [==============================] - 1s 5ms/step - loss: 6.1877 - accuracy: 0.0990\n",
            "Epoch 7/10\n",
            "157/157 [==============================] - 1s 5ms/step - loss: 6.1877 - accuracy: 0.0993\n",
            "Epoch 8/10\n",
            "157/157 [==============================] - 1s 5ms/step - loss: 6.1877 - accuracy: 0.1005\n",
            "Epoch 9/10\n",
            "157/157 [==============================] - 1s 5ms/step - loss: 6.1877 - accuracy: 0.1010\n",
            "Epoch 10/10\n",
            "157/157 [==============================] - 1s 7ms/step - loss: 6.1877 - accuracy: 0.1010\n",
            "The model took 11.97033429145813 seconds to train\n",
            "313/313 [==============================] - 1s 3ms/step - loss: 6.2375 - accuracy: 0.0933\n",
            "Accuracy on Test/Validation samples: 0.093299999833107\n"
          ]
        }
      ]
    },
    {
      "cell_type": "code",
      "source": [],
      "metadata": {
        "id": "DjOtYYlA-Yvz"
      },
      "execution_count": null,
      "outputs": []
    }
  ]
}