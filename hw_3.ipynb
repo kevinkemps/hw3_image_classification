{
  "nbformat": 4,
  "nbformat_minor": 0,
  "metadata": {
    "colab": {
      "provenance": [],
      "gpuType": "T4",
      "authorship_tag": "ABX9TyNF2yRmcmzTH9ikX+bcUzLg",
      "include_colab_link": true
    },
    "kernelspec": {
      "name": "python3",
      "display_name": "Python 3"
    },
    "language_info": {
      "name": "python"
    },
    "accelerator": "GPU"
  },
  "cells": [
    {
      "cell_type": "markdown",
      "metadata": {
        "id": "view-in-github",
        "colab_type": "text"
      },
      "source": [
        "<a href=\"https://colab.research.google.com/github/kevinkemps/hw3_image_classification/blob/main/hw_3.ipynb\" target=\"_parent\"><img src=\"https://colab.research.google.com/assets/colab-badge.svg\" alt=\"Open In Colab\"/></a>"
      ]
    },
    {
      "cell_type": "code",
      "execution_count": 1,
      "metadata": {
        "colab": {
          "base_uri": "https://localhost:8080/"
        },
        "id": "5CnC8PGEauoi",
        "outputId": "67a6b097-ade0-4f39-9908-9a65378808a3"
      },
      "outputs": [
        {
          "output_type": "stream",
          "name": "stdout",
          "text": [
            "Downloading data from https://www.cs.toronto.edu/~kriz/cifar-10-python.tar.gz\n",
            "170498071/170498071 [==============================] - 13s 0us/step\n"
          ]
        }
      ],
      "source": [
        "from keras.datasets import cifar10\n",
        "# load the dataset\n",
        "(X_train, y_train), (X_test, y_test) = cifar10.load_data()"
      ]
    },
    {
      "cell_type": "code",
      "source": [
        "from skimage.color import rgb2gray\n",
        "# convert to grayscale images\n",
        "X_train = rgb2gray(X_train)\n",
        "X_test = rgb2gray(X_test)"
      ],
      "metadata": {
        "id": "V1KLYWXta2NV"
      },
      "execution_count": 2,
      "outputs": []
    },
    {
      "cell_type": "code",
      "source": [
        "# Preprocessing: Normalize the images.\n",
        "train_images = (X_train / 255)\n",
        "test_images = (X_test / 255)"
      ],
      "metadata": {
        "id": "m8fdEc4Oa4XT"
      },
      "execution_count": 3,
      "outputs": []
    },
    {
      "cell_type": "code",
      "source": [
        "import math\n",
        "import pandas as pd\n",
        "import keras\n",
        "from keras import models, layers, optimizers, regularizers\n",
        "import numpy as np\n",
        "import random\n",
        "from sklearn import model_selection, preprocessing\n",
        "import tensorflow as tf\n",
        "from tqdm import tqdm\n",
        "import matplotlib.pyplot as plt\n",
        "from keras.models import Model, Sequential\n",
        "from keras.layers import Dense, Dropout"
      ],
      "metadata": {
        "id": "FSd_WVp-baSm"
      },
      "execution_count": 5,
      "outputs": []
    },
    {
      "cell_type": "code",
      "source": [
        "model = Sequential([Dense(64, input_shape=(1024,), activation='relu'),\n",
        "                    Dense(32, activation='relu'),\n",
        "                    Dense(10, activation='softmax')])\n",
        "\n",
        "model.summary()"
      ],
      "metadata": {
        "colab": {
          "base_uri": "https://localhost:8080/"
        },
        "id": "AaPo6noObjH-",
        "outputId": "69dccca3-168c-4b46-803e-676dd6fa2570"
      },
      "execution_count": 19,
      "outputs": [
        {
          "output_type": "stream",
          "name": "stdout",
          "text": [
            "Model: \"sequential_1\"\n",
            "_________________________________________________________________\n",
            " Layer (type)                Output Shape              Param #   \n",
            "=================================================================\n",
            " dense_3 (Dense)             (None, 64)                65600     \n",
            "                                                                 \n",
            " dense_4 (Dense)             (None, 32)                2080      \n",
            "                                                                 \n",
            " dense_5 (Dense)             (None, 10)                330       \n",
            "                                                                 \n",
            "=================================================================\n",
            "Total params: 68010 (265.66 KB)\n",
            "Trainable params: 68010 (265.66 KB)\n",
            "Non-trainable params: 0 (0.00 Byte)\n",
            "_________________________________________________________________\n"
          ]
        }
      ]
    },
    {
      "cell_type": "code",
      "source": [
        "# Compile model\n",
        "model.compile(optimizer='sgd', loss='categorical_crossentropy',metrics=['accuracy'],)"
      ],
      "metadata": {
        "id": "UGlN0LFIbonU"
      },
      "execution_count": 21,
      "outputs": []
    },
    {
      "cell_type": "code",
      "source": [
        "flatten_train_images = train_images.reshape((-1, 32*32))\n",
        "print(flatten_train_images)\n",
        "flatten_test_images = test_images.reshape((-1, 32*32))\n",
        "\n",
        "print(\"Train image shape: \", train_images.shape, \"Flattened image shape: \", flatten_train_images.shape)"
      ],
      "metadata": {
        "colab": {
          "base_uri": "https://localhost:8080/"
        },
        "id": "LI8zRqBubvpN",
        "outputId": "4b240fd0-28e9-4269-92f7-a138dcc6a793"
      },
      "execution_count": 9,
      "outputs": [
        {
          "output_type": "stream",
          "name": "stdout",
          "text": [
            "[[0.00094478 0.00069651 0.00073917 ... 0.00288547 0.00188483 0.00149397]\n",
            " [0.00265795 0.00206983 0.00159267 ... 0.0020847  0.00209903 0.00209024]\n",
            " [0.00392157 0.00389081 0.00389081 ... 0.0012821  0.00128536 0.00130074]\n",
            " ...\n",
            " [0.00233329 0.00233206 0.00234082 ... 0.00074571 0.00061489 0.00043572]\n",
            " [0.00320517 0.00315792 0.00314254 ... 0.002849   0.00290949 0.00291723]\n",
            " [0.00353281 0.00365257 0.00363503 ... 0.00272413 0.00251989 0.00250451]]\n",
            "Train image shape:  (50000, 32, 32) Flattened image shape:  (50000, 1024)\n"
          ]
        }
      ]
    },
    {
      "cell_type": "code",
      "source": [
        "32*32"
      ],
      "metadata": {
        "colab": {
          "base_uri": "https://localhost:8080/"
        },
        "id": "idl-QQ-ebxfP",
        "outputId": "e22138a9-3c77-4374-c292-bd7de29dd5ba"
      },
      "execution_count": 10,
      "outputs": [
        {
          "output_type": "execute_result",
          "data": {
            "text/plain": [
              "1024"
            ]
          },
          "metadata": {},
          "execution_count": 10
        }
      ]
    },
    {
      "cell_type": "code",
      "source": [
        "from keras.utils import to_categorical\n",
        "\n",
        "print(\"Train image shape: \", train_images.shape, \"Flattened image shape: \", flatten_train_images.shape)"
      ],
      "metadata": {
        "colab": {
          "base_uri": "https://localhost:8080/"
        },
        "id": "t1DuAmgzb40G",
        "outputId": "ac47d310-1a59-44dd-8e67-a94797a94e4f"
      },
      "execution_count": 15,
      "outputs": [
        {
          "output_type": "stream",
          "name": "stdout",
          "text": [
            "Train image shape:  (50000, 32, 32) Flattened image shape:  (50000, 1024)\n"
          ]
        }
      ]
    },
    {
      "cell_type": "code",
      "source": [
        "model.fit(flatten_train_images, to_categorical(y_train), epochs=10, batch_size=256,)\n"
      ],
      "metadata": {
        "colab": {
          "base_uri": "https://localhost:8080/"
        },
        "id": "g6-ErqIYb7Zm",
        "outputId": "ddee477b-45a0-4df3-e7e8-d190e3143c65"
      },
      "execution_count": 22,
      "outputs": [
        {
          "output_type": "stream",
          "name": "stdout",
          "text": [
            "Epoch 1/10\n",
            "196/196 [==============================] - 2s 3ms/step - loss: 2.3023 - accuracy: 0.1088\n",
            "Epoch 2/10\n",
            "196/196 [==============================] - 1s 3ms/step - loss: 2.3021 - accuracy: 0.1210\n",
            "Epoch 3/10\n",
            "196/196 [==============================] - 1s 3ms/step - loss: 2.3021 - accuracy: 0.1229\n",
            "Epoch 4/10\n",
            "196/196 [==============================] - 1s 3ms/step - loss: 2.3021 - accuracy: 0.1273\n",
            "Epoch 5/10\n",
            "196/196 [==============================] - 1s 3ms/step - loss: 2.3020 - accuracy: 0.1256\n",
            "Epoch 6/10\n",
            "196/196 [==============================] - 1s 3ms/step - loss: 2.3020 - accuracy: 0.1354\n",
            "Epoch 7/10\n",
            "196/196 [==============================] - 1s 3ms/step - loss: 2.3020 - accuracy: 0.1446\n",
            "Epoch 8/10\n",
            "196/196 [==============================] - 1s 3ms/step - loss: 2.3020 - accuracy: 0.1355\n",
            "Epoch 9/10\n",
            "196/196 [==============================] - 1s 4ms/step - loss: 2.3020 - accuracy: 0.1279\n",
            "Epoch 10/10\n",
            "196/196 [==============================] - 1s 4ms/step - loss: 2.3020 - accuracy: 0.1221\n"
          ]
        },
        {
          "output_type": "execute_result",
          "data": {
            "text/plain": [
              "<keras.src.callbacks.History at 0x7b0fc49d4e20>"
            ]
          },
          "metadata": {},
          "execution_count": 22
        }
      ]
    },
    {
      "cell_type": "code",
      "source": [
        "\n",
        "# Evaluate your model's performance on the test data\n",
        "performance = model.evaluate(flatten_test_images, to_categorical(y_test))\n",
        "print(\"Accuracy on Test samples: {0}\".format(performance[1]))"
      ],
      "metadata": {
        "colab": {
          "base_uri": "https://localhost:8080/"
        },
        "id": "-Ocju0BJcK8H",
        "outputId": "82c7fa58-de86-49b5-c4a5-fe38c9ba5f80"
      },
      "execution_count": 23,
      "outputs": [
        {
          "output_type": "stream",
          "name": "stdout",
          "text": [
            "313/313 [==============================] - 1s 3ms/step - loss: 2.3019 - accuracy: 0.1179\n",
            "Accuracy on Test samples: 0.11789999902248383\n"
          ]
        }
      ]
    },
    {
      "cell_type": "code",
      "source": [],
      "metadata": {
        "id": "0Xi9SN39cboS"
      },
      "execution_count": null,
      "outputs": []
    }
  ]
}